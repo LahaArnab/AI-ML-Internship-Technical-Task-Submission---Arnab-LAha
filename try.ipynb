{
 "cells": [
  {
   "cell_type": "code",
   "execution_count": null,
   "metadata": {},
   "outputs": [],
   "source": []
  },
  {
   "cell_type": "code",
   "execution_count": 4,
   "metadata": {},
   "outputs": [],
   "source": [
    "import pandas as pd\n",
    "df = pd.read_csv(\"final_command_line_qa_200.csv\")"
   ]
  },
  {
   "cell_type": "code",
   "execution_count": 16,
   "metadata": {},
   "outputs": [
    {
     "data": {
      "text/plain": [
       "(200, 6)"
      ]
     },
     "execution_count": 16,
     "metadata": {},
     "output_type": "execute_result"
    }
   ],
   "source": [
    "df.shape"
   ]
  },
  {
   "cell_type": "code",
   "execution_count": 6,
   "metadata": {},
   "outputs": [
    {
     "data": {
      "text/html": [
       "<div>\n",
       "<style scoped>\n",
       "    .dataframe tbody tr th:only-of-type {\n",
       "        vertical-align: middle;\n",
       "    }\n",
       "\n",
       "    .dataframe tbody tr th {\n",
       "        vertical-align: top;\n",
       "    }\n",
       "\n",
       "    .dataframe thead th {\n",
       "        text-align: right;\n",
       "    }\n",
       "</style>\n",
       "<table border=\"1\" class=\"dataframe\">\n",
       "  <thead>\n",
       "    <tr style=\"text-align: right;\">\n",
       "      <th></th>\n",
       "      <th>question</th>\n",
       "      <th>command</th>\n",
       "      <th>category</th>\n",
       "      <th>tag</th>\n",
       "      <th>votes</th>\n",
       "      <th>answer_votes</th>\n",
       "    </tr>\n",
       "  </thead>\n",
       "  <tbody>\n",
       "    <tr>\n",
       "      <th>0</th>\n",
       "      <td>How do I undo the most recent local commits in...</td>\n",
       "      <td>git commit -m \"Something terribly misguided\" #...</td>\n",
       "      <td>git</td>\n",
       "      <td>git</td>\n",
       "      <td>27057</td>\n",
       "      <td>29864</td>\n",
       "    </tr>\n",
       "    <tr>\n",
       "      <th>1</th>\n",
       "      <td>How do I delete a Git branch locally and remot...</td>\n",
       "      <td>git push &lt;remote_name&gt; --delete &lt;branch_name&gt; ...</td>\n",
       "      <td>git</td>\n",
       "      <td>git</td>\n",
       "      <td>20365</td>\n",
       "      <td>26561</td>\n",
       "    </tr>\n",
       "    <tr>\n",
       "      <th>2</th>\n",
       "      <td>How can I rename a local Git branch?</td>\n",
       "      <td>git branch -m &lt;newname&gt; | git branch -m &lt;oldna...</td>\n",
       "      <td>git</td>\n",
       "      <td>git</td>\n",
       "      <td>11932</td>\n",
       "      <td>19516</td>\n",
       "    </tr>\n",
       "  </tbody>\n",
       "</table>\n",
       "</div>"
      ],
      "text/plain": [
       "                                            question  \\\n",
       "0  How do I undo the most recent local commits in...   \n",
       "1  How do I delete a Git branch locally and remot...   \n",
       "2               How can I rename a local Git branch?   \n",
       "\n",
       "                                             command category  tag  votes  \\\n",
       "0  git commit -m \"Something terribly misguided\" #...      git  git  27057   \n",
       "1  git push <remote_name> --delete <branch_name> ...      git  git  20365   \n",
       "2  git branch -m <newname> | git branch -m <oldna...      git  git  11932   \n",
       "\n",
       "   answer_votes  \n",
       "0         29864  \n",
       "1         26561  \n",
       "2         19516  "
      ]
     },
     "execution_count": 6,
     "metadata": {},
     "output_type": "execute_result"
    }
   ],
   "source": [
    "df.head(3)"
   ]
  },
  {
   "cell_type": "code",
   "execution_count": 9,
   "metadata": {},
   "outputs": [
    {
     "data": {
      "text/plain": [
       "tag\n",
       "git            40\n",
       "bash           40\n",
       "tar            40\n",
       "grep           40\n",
       "python-venv    40\n",
       "Name: count, dtype: int64"
      ]
     },
     "execution_count": 9,
     "metadata": {},
     "output_type": "execute_result"
    }
   ],
   "source": [
    "df['tag'].value_counts()"
   ]
  },
  {
   "cell_type": "code",
   "execution_count": 17,
   "metadata": {},
   "outputs": [],
   "source": [
    "# df_modified = df.drop('category', axis=1)\n",
    "# df_modified = df.drop('tag', axis=1)\n",
    "# df_modified = df.drop('votes', axis=1)\n",
    "# df_modified = df.drop('answer_votes', axis=1)\n",
    "df_modified = df.drop(['tag', 'category','votes','answer_votes'], axis=1)"
   ]
  },
  {
   "cell_type": "code",
   "execution_count": 18,
   "metadata": {},
   "outputs": [
    {
     "data": {
      "text/plain": [
       "(200, 2)"
      ]
     },
     "execution_count": 18,
     "metadata": {},
     "output_type": "execute_result"
    }
   ],
   "source": [
    "df_modified.shape"
   ]
  },
  {
   "cell_type": "code",
   "execution_count": 19,
   "metadata": {},
   "outputs": [],
   "source": [
    "df_modified.to_csv('final_dataset.csv', index=False)"
   ]
  },
  {
   "cell_type": "code",
   "execution_count": 20,
   "metadata": {},
   "outputs": [],
   "source": [
    "df_n = df_modified.rename(columns={'command': 'answer'})"
   ]
  },
  {
   "cell_type": "code",
   "execution_count": 22,
   "metadata": {},
   "outputs": [
    {
     "data": {
      "text/html": [
       "<div>\n",
       "<style scoped>\n",
       "    .dataframe tbody tr th:only-of-type {\n",
       "        vertical-align: middle;\n",
       "    }\n",
       "\n",
       "    .dataframe tbody tr th {\n",
       "        vertical-align: top;\n",
       "    }\n",
       "\n",
       "    .dataframe thead th {\n",
       "        text-align: right;\n",
       "    }\n",
       "</style>\n",
       "<table border=\"1\" class=\"dataframe\">\n",
       "  <thead>\n",
       "    <tr style=\"text-align: right;\">\n",
       "      <th></th>\n",
       "      <th>question</th>\n",
       "      <th>answer</th>\n",
       "    </tr>\n",
       "  </thead>\n",
       "  <tbody>\n",
       "    <tr>\n",
       "      <th>0</th>\n",
       "      <td>How do I undo the most recent local commits in...</td>\n",
       "      <td>git commit -m \"Something terribly misguided\" #...</td>\n",
       "    </tr>\n",
       "    <tr>\n",
       "      <th>1</th>\n",
       "      <td>How do I delete a Git branch locally and remot...</td>\n",
       "      <td>git push &lt;remote_name&gt; --delete &lt;branch_name&gt; ...</td>\n",
       "    </tr>\n",
       "    <tr>\n",
       "      <th>2</th>\n",
       "      <td>How can I rename a local Git branch?</td>\n",
       "      <td>git branch -m &lt;newname&gt; | git branch -m &lt;oldna...</td>\n",
       "    </tr>\n",
       "  </tbody>\n",
       "</table>\n",
       "</div>"
      ],
      "text/plain": [
       "                                            question  \\\n",
       "0  How do I undo the most recent local commits in...   \n",
       "1  How do I delete a Git branch locally and remot...   \n",
       "2               How can I rename a local Git branch?   \n",
       "\n",
       "                                              answer  \n",
       "0  git commit -m \"Something terribly misguided\" #...  \n",
       "1  git push <remote_name> --delete <branch_name> ...  \n",
       "2  git branch -m <newname> | git branch -m <oldna...  "
      ]
     },
     "execution_count": 22,
     "metadata": {},
     "output_type": "execute_result"
    }
   ],
   "source": [
    "df_n.head(3)"
   ]
  },
  {
   "cell_type": "code",
   "execution_count": 23,
   "metadata": {},
   "outputs": [],
   "source": [
    "df_n.to_csv('final_dataset.csv', index=False)\n"
   ]
  },
  {
   "cell_type": "code",
   "execution_count": 2,
   "metadata": {},
   "outputs": [],
   "source": [
    "# code to convert csv to json \n",
    "import json\n",
    "import pandas as pd\n",
    "def csv_to_json(csv_file, json_file):\n",
    "    data = pd.read_csv(csv_file)\n",
    "    data.to_json(json_file, orient='records', lines=True)\n",
    "\n",
    "csv_to_json('final_dataset.csv', 'final_dataset.json')"
   ]
  },
  {
   "cell_type": "code",
   "execution_count": 4,
   "metadata": {},
   "outputs": [],
   "source": [
    "import pandas as pd\n",
    "df = pd.read_csv('evaluation_results.csv')"
   ]
  },
  {
   "cell_type": "code",
   "execution_count": 5,
   "metadata": {},
   "outputs": [
    {
     "data": {
      "text/html": [
       "<div>\n",
       "<style scoped>\n",
       "    .dataframe tbody tr th:only-of-type {\n",
       "        vertical-align: middle;\n",
       "    }\n",
       "\n",
       "    .dataframe tbody tr th {\n",
       "        vertical-align: top;\n",
       "    }\n",
       "\n",
       "    .dataframe thead th {\n",
       "        text-align: right;\n",
       "    }\n",
       "</style>\n",
       "<table border=\"1\" class=\"dataframe\">\n",
       "  <thead>\n",
       "    <tr style=\"text-align: right;\">\n",
       "      <th></th>\n",
       "      <th>Prompt</th>\n",
       "      <th>Reference</th>\n",
       "      <th>Base Output</th>\n",
       "      <th>Base ROUGE-L</th>\n",
       "      <th>Base Quality</th>\n",
       "      <th>Tuned Output</th>\n",
       "      <th>Tuned ROUGE-L</th>\n",
       "      <th>Tuned Quality</th>\n",
       "    </tr>\n",
       "  </thead>\n",
       "  <tbody>\n",
       "    <tr>\n",
       "      <th>0</th>\n",
       "      <td>Create a new Git branch and switch to it.</td>\n",
       "      <td>git checkout -b &lt;branch_name&gt;</td>\n",
       "      <td>git checkout -b my-new-branch master | git pus...</td>\n",
       "      <td>0.421053</td>\n",
       "      <td>0</td>\n",
       "      <td>git checkout -b my-new-branch master | git pus...</td>\n",
       "      <td>0.421053</td>\n",
       "      <td>0</td>\n",
       "    </tr>\n",
       "    <tr>\n",
       "      <th>1</th>\n",
       "      <td>Compress the folder reports into reports.tar.gz.</td>\n",
       "      <td>tar -czvf reports.tar.gz reports/</td>\n",
       "      <td>tar -czf report-folder/report1.xml report2.xml...</td>\n",
       "      <td>0.320000</td>\n",
       "      <td>0</td>\n",
       "      <td>tar -czf report-folder/report1.xml report2.xml...</td>\n",
       "      <td>0.320000</td>\n",
       "      <td>0</td>\n",
       "    </tr>\n",
       "    <tr>\n",
       "      <th>2</th>\n",
       "      <td>List all Python files in the current directory...</td>\n",
       "      <td>find . -type f -name '*.py'</td>\n",
       "      <td>pip install pyvenv | python -m venv myenv</td>\n",
       "      <td>0.000000</td>\n",
       "      <td>0</td>\n",
       "      <td>pip install pyvenv | python -m venv myenv</td>\n",
       "      <td>0.000000</td>\n",
       "      <td>0</td>\n",
       "    </tr>\n",
       "  </tbody>\n",
       "</table>\n",
       "</div>"
      ],
      "text/plain": [
       "                                              Prompt  \\\n",
       "0          Create a new Git branch and switch to it.   \n",
       "1   Compress the folder reports into reports.tar.gz.   \n",
       "2  List all Python files in the current directory...   \n",
       "\n",
       "                           Reference  \\\n",
       "0      git checkout -b <branch_name>   \n",
       "1  tar -czvf reports.tar.gz reports/   \n",
       "2        find . -type f -name '*.py'   \n",
       "\n",
       "                                         Base Output  Base ROUGE-L  \\\n",
       "0  git checkout -b my-new-branch master | git pus...      0.421053   \n",
       "1  tar -czf report-folder/report1.xml report2.xml...      0.320000   \n",
       "2          pip install pyvenv | python -m venv myenv      0.000000   \n",
       "\n",
       "   Base Quality                                       Tuned Output  \\\n",
       "0             0  git checkout -b my-new-branch master | git pus...   \n",
       "1             0  tar -czf report-folder/report1.xml report2.xml...   \n",
       "2             0          pip install pyvenv | python -m venv myenv   \n",
       "\n",
       "   Tuned ROUGE-L  Tuned Quality  \n",
       "0       0.421053              0  \n",
       "1       0.320000              0  \n",
       "2       0.000000              0  "
      ]
     },
     "execution_count": 5,
     "metadata": {},
     "output_type": "execute_result"
    }
   ],
   "source": [
    "df.shape\n",
    "df.head(3)"
   ]
  },
  {
   "cell_type": "code",
   "execution_count": null,
   "metadata": {},
   "outputs": [],
   "source": [
    "# convert df to .md\n",
    "import pandas as pd\n",
    "\n",
    "def df_to_markdown(df, file_name):\n",
    "    with open(file_name, 'w') as f:\n",
    "        f.write(df.to_markdown(index=False))\n",
    "\n",
    "\n",
    "df_to_markdown(df, 'eval_static.md')"
   ]
  },
  {
   "cell_type": "code",
   "execution_count": null,
   "metadata": {},
   "outputs": [],
   "source": []
  }
 ],
 "metadata": {
  "kernelspec": {
   "display_name": "venv",
   "language": "python",
   "name": "python3"
  },
  "language_info": {
   "codemirror_mode": {
    "name": "ipython",
    "version": 3
   },
   "file_extension": ".py",
   "mimetype": "text/x-python",
   "name": "python",
   "nbconvert_exporter": "python",
   "pygments_lexer": "ipython3",
   "version": "3.9.13"
  }
 },
 "nbformat": 4,
 "nbformat_minor": 2
}
